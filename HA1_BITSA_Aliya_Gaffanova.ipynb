{
  "nbformat": 4,
  "nbformat_minor": 0,
  "metadata": {
    "kernelspec": {
      "display_name": "Python 3",
      "language": "python",
      "name": "python3"
    },
    "language_info": {
      "codemirror_mode": {
        "name": "ipython",
        "version": 3
      },
      "file_extension": ".py",
      "mimetype": "text/x-python",
      "name": "python",
      "nbconvert_exporter": "python",
      "pygments_lexer": "ipython3",
      "version": "3.7.0"
    },
    "colab": {
      "name": "HA1_BITSA_Aliya_Gaffanova",
      "provenance": [],
      "collapsed_sections": [
        "dfnzelEgpqb5",
        "_0mf6r7SpqcM",
        "E33EaS3cpqcO"
      ]
    }
  },
  "cells": [
    {
      "cell_type": "markdown",
      "metadata": {
        "id": "6DJmVz9Rpqb1"
      },
      "source": [
        "## Time Series Analysis: Home Assignment 1"
      ]
    },
    {
      "cell_type": "markdown",
      "metadata": {
        "id": "d3pMWWjQpqb3"
      },
      "source": [
        "due to **11.02.21 23:00**\n",
        "\n",
        "You need to upload HA1 to github repository,  the link will be provided later."
      ]
    },
    {
      "cell_type": "markdown",
      "metadata": {
        "id": "I8TyKz_cpqb4"
      },
      "source": [
        "Enter your name below: "
      ]
    },
    {
      "cell_type": "code",
      "metadata": {
        "id": "qpBQ0fempqb5"
      },
      "source": [
        "name='Aliya Gaffanova' "
      ],
      "execution_count": null,
      "outputs": []
    },
    {
      "cell_type": "markdown",
      "metadata": {
        "id": "dfnzelEgpqb5"
      },
      "source": [
        "### Contents"
      ]
    },
    {
      "cell_type": "markdown",
      "metadata": {
        "id": "o4-1slrypqb6"
      },
      "source": [
        "1. **Data preparation (7 points)**\n",
        "\n",
        "    $1.0$ Download data and import functions\n",
        "    \n",
        "    $1.1$ Read data (1 pt.)\n",
        "    \n",
        "    $1.2$ Check NAs (1 pt.)\n",
        "    \n",
        "    $1.3$ Transform dates (2 pt.)\n",
        "    \n",
        "    $1.4$. Make some plots (0.75 pt.)\n",
        "    \n",
        "    $1.5$ Split the data (0.75 pt.)\n",
        "    \n",
        " \n",
        "2. **ETS (7 points)**\n",
        "\n",
        "    $2.1$ Estimate ETS (1 pt.)\n",
        "    \n",
        "    $2.2$ Point forecasts (1 pt.)\n",
        "    \n",
        "    $2.3$ Interval forecasts 1 (1 pt.)\n",
        "    \n",
        "    $2.4$ Interval forecasts 2 (1 pt.)\n",
        "    \n",
        "    $2.5$ Forecast quality metrics (2 pt.)\n",
        "    \n",
        "    $2.6$ Model comparison (1 pt.)\n",
        "    "
      ]
    },
    {
      "cell_type": "markdown",
      "metadata": {
        "id": "hFkSn48Rpqb6"
      },
      "source": [
        "## 1. Data preparation (7 pt.)"
      ]
    },
    {
      "cell_type": "markdown",
      "metadata": {
        "id": "yCfifDdzpqb7"
      },
      "source": [
        "### 1.0 Download data and import functions\n",
        "[back to contents](#Contents)"
      ]
    },
    {
      "cell_type": "markdown",
      "metadata": {
        "id": "DZ8VsHq1pqb7"
      },
      "source": [
        "You have to download [BI_TSA_HA_1_data.csv](https://github.com/bdemeshev/ts603/blob/master/2021-spring/BI_TSA_HA_1_data.csv), which represents quarterly sales of Walmart from 1984 to 2020. The sourse of the data is [ycharts.com](https://ycharts.com/companies/WMT/revenues). "
      ]
    },
    {
      "cell_type": "code",
      "metadata": {
        "colab": {
          "base_uri": "https://localhost:8080/"
        },
        "id": "iWy1oJAepwyt",
        "outputId": "b331af86-273b-4573-a36c-7af4c1457017"
      },
      "source": [
        "!pip install sktime\n",
        "!pip install pmdarima"
      ],
      "execution_count": null,
      "outputs": [
        {
          "output_type": "stream",
          "text": [
            "Collecting sktime\n",
            "\u001b[?25l  Downloading https://files.pythonhosted.org/packages/23/33/9c41660bf00420033a6e07809491263cc9a7d889ec4dfb2f7ea4a2f1bb63/sktime-0.5.3-cp36-cp36m-manylinux2014_x86_64.whl (5.7MB)\n",
            "\u001b[K     |████████████████████████████████| 5.7MB 4.4MB/s \n",
            "\u001b[?25hCollecting scikit-learn>=0.23.0\n",
            "\u001b[?25l  Downloading https://files.pythonhosted.org/packages/e2/4c/6111b9a325f29527d7f262e2ee8c730d354b47a728d955e186dacad57a0d/scikit_learn-0.24.1-cp36-cp36m-manylinux2010_x86_64.whl (22.2MB)\n",
            "\u001b[K     |████████████████████████████████| 22.2MB 1.9MB/s \n",
            "\u001b[?25hRequirement already satisfied: numpy>=1.19.0 in /usr/local/lib/python3.6/dist-packages (from sktime) (1.19.5)\n",
            "Requirement already satisfied: wheel in /usr/local/lib/python3.6/dist-packages (from sktime) (0.36.2)\n",
            "Collecting statsmodels>=0.12.1\n",
            "\u001b[?25l  Downloading https://files.pythonhosted.org/packages/0d/7b/c17815648dc31396af865b9c6627cc3f95705954e30f61106795361c39ee/statsmodels-0.12.2-cp36-cp36m-manylinux1_x86_64.whl (9.5MB)\n",
            "\u001b[K     |████████████████████████████████| 9.5MB 38.7MB/s \n",
            "\u001b[?25hRequirement already satisfied: numba>=0.50 in /usr/local/lib/python3.6/dist-packages (from sktime) (0.51.2)\n",
            "Requirement already satisfied: pandas>=1.1.0 in /usr/local/lib/python3.6/dist-packages (from sktime) (1.1.5)\n",
            "Collecting threadpoolctl>=2.0.0\n",
            "  Downloading https://files.pythonhosted.org/packages/f7/12/ec3f2e203afa394a149911729357aa48affc59c20e2c1c8297a60f33f133/threadpoolctl-2.1.0-py3-none-any.whl\n",
            "Requirement already satisfied: scipy>=0.19.1 in /usr/local/lib/python3.6/dist-packages (from scikit-learn>=0.23.0->sktime) (1.4.1)\n",
            "Requirement already satisfied: joblib>=0.11 in /usr/local/lib/python3.6/dist-packages (from scikit-learn>=0.23.0->sktime) (1.0.0)\n",
            "Requirement already satisfied: patsy>=0.5 in /usr/local/lib/python3.6/dist-packages (from statsmodels>=0.12.1->sktime) (0.5.1)\n",
            "Requirement already satisfied: llvmlite<0.35,>=0.34.0.dev0 in /usr/local/lib/python3.6/dist-packages (from numba>=0.50->sktime) (0.34.0)\n",
            "Requirement already satisfied: setuptools in /usr/local/lib/python3.6/dist-packages (from numba>=0.50->sktime) (53.0.0)\n",
            "Requirement already satisfied: pytz>=2017.2 in /usr/local/lib/python3.6/dist-packages (from pandas>=1.1.0->sktime) (2018.9)\n",
            "Requirement already satisfied: python-dateutil>=2.7.3 in /usr/local/lib/python3.6/dist-packages (from pandas>=1.1.0->sktime) (2.8.1)\n",
            "Requirement already satisfied: six in /usr/local/lib/python3.6/dist-packages (from patsy>=0.5->statsmodels>=0.12.1->sktime) (1.15.0)\n",
            "Installing collected packages: threadpoolctl, scikit-learn, statsmodels, sktime\n",
            "  Found existing installation: scikit-learn 0.22.2.post1\n",
            "    Uninstalling scikit-learn-0.22.2.post1:\n",
            "      Successfully uninstalled scikit-learn-0.22.2.post1\n",
            "  Found existing installation: statsmodels 0.10.2\n",
            "    Uninstalling statsmodels-0.10.2:\n",
            "      Successfully uninstalled statsmodels-0.10.2\n",
            "Successfully installed scikit-learn-0.24.1 sktime-0.5.3 statsmodels-0.12.2 threadpoolctl-2.1.0\n",
            "Collecting pmdarima\n",
            "\u001b[?25l  Downloading https://files.pythonhosted.org/packages/c9/d7/61af1897449638822f97c8b43ef0c2fce2ec68a6cda9a43ebbbdd12b967c/pmdarima-1.8.0-cp36-cp36m-manylinux1_x86_64.whl (1.5MB)\n",
            "\u001b[K     |████████████████████████████████| 1.5MB 4.1MB/s \n",
            "\u001b[?25hRequirement already satisfied: scikit-learn>=0.22 in /usr/local/lib/python3.6/dist-packages (from pmdarima) (0.24.1)\n",
            "Requirement already satisfied: joblib>=0.11 in /usr/local/lib/python3.6/dist-packages (from pmdarima) (1.0.0)\n",
            "Requirement already satisfied: setuptools!=50.0.0,>=38.6.0 in /usr/local/lib/python3.6/dist-packages (from pmdarima) (53.0.0)\n",
            "Requirement already satisfied: numpy>=1.17.3 in /usr/local/lib/python3.6/dist-packages (from pmdarima) (1.19.5)\n",
            "Requirement already satisfied: urllib3 in /usr/local/lib/python3.6/dist-packages (from pmdarima) (1.24.3)\n",
            "Requirement already satisfied: scipy>=1.3.2 in /usr/local/lib/python3.6/dist-packages (from pmdarima) (1.4.1)\n",
            "Requirement already satisfied: statsmodels!=0.12.0,>=0.11 in /usr/local/lib/python3.6/dist-packages (from pmdarima) (0.12.2)\n",
            "Requirement already satisfied: pandas>=0.19 in /usr/local/lib/python3.6/dist-packages (from pmdarima) (1.1.5)\n",
            "Collecting Cython<0.29.18,>=0.29\n",
            "\u001b[?25l  Downloading https://files.pythonhosted.org/packages/e7/d7/510ddef0248f3e1e91f9cc7e31c0f35f8954d0af92c5c3fd4c853e859ebe/Cython-0.29.17-cp36-cp36m-manylinux1_x86_64.whl (2.1MB)\n",
            "\u001b[K     |████████████████████████████████| 2.1MB 23.7MB/s \n",
            "\u001b[?25hRequirement already satisfied: threadpoolctl>=2.0.0 in /usr/local/lib/python3.6/dist-packages (from scikit-learn>=0.22->pmdarima) (2.1.0)\n",
            "Requirement already satisfied: patsy>=0.5 in /usr/local/lib/python3.6/dist-packages (from statsmodels!=0.12.0,>=0.11->pmdarima) (0.5.1)\n",
            "Requirement already satisfied: pytz>=2017.2 in /usr/local/lib/python3.6/dist-packages (from pandas>=0.19->pmdarima) (2018.9)\n",
            "Requirement already satisfied: python-dateutil>=2.7.3 in /usr/local/lib/python3.6/dist-packages (from pandas>=0.19->pmdarima) (2.8.1)\n",
            "Requirement already satisfied: six in /usr/local/lib/python3.6/dist-packages (from patsy>=0.5->statsmodels!=0.12.0,>=0.11->pmdarima) (1.15.0)\n",
            "Installing collected packages: Cython, pmdarima\n",
            "  Found existing installation: Cython 0.29.21\n",
            "    Uninstalling Cython-0.29.21:\n",
            "      Successfully uninstalled Cython-0.29.21\n",
            "Successfully installed Cython-0.29.17 pmdarima-1.8.0\n"
          ],
          "name": "stdout"
        }
      ]
    },
    {
      "cell_type": "code",
      "metadata": {
        "id": "lU9aBp_jpqb7"
      },
      "source": [
        "import pandas as pd\n",
        "import numpy as np\n",
        "from sktime.utils.plotting import plot_series\n",
        "from sktime.forecasting.model_selection import temporal_train_test_split\n",
        "from statsmodels.tsa.exponential_smoothing.ets import ETSModel\n",
        "from sklearn.metrics import  mean_absolute_error, mean_squared_error"
      ],
      "execution_count": null,
      "outputs": []
    },
    {
      "cell_type": "markdown",
      "metadata": {
        "id": "UCLTgbcNpqb8"
      },
      "source": [
        "### 1.1 Read data (1 pt.)\n",
        "[back to contents](#Contents)"
      ]
    },
    {
      "cell_type": "markdown",
      "metadata": {
        "id": "FB8i6Pznpqb8"
      },
      "source": [
        "Read the downloaded data from your local computer and name it ``` df ```\n",
        "\n",
        "Alternatively, you can skip 1.0 and access data directly putting ```'https://raw.github.com/bdemeshev/ts603/master/2021-spring/BI_TSA_HA_1_data.csv'``` inside ```read_csv```\n",
        "\n",
        "use ``` pd.read_csv('... .csv') ```"
      ]
    },
    {
      "cell_type": "code",
      "metadata": {
        "id": "7wzEM7ZBpqb8",
        "colab": {
          "base_uri": "https://localhost:8080/"
        },
        "outputId": "b4bd5604-312f-4e3f-c6ea-844527a89dba"
      },
      "source": [
        "df=pd.read_csv('https://raw.github.com/bdemeshev/ts603/master/2021-spring/BI_TSA_HA_1_data.csv')\n",
        "df.describe"
      ],
      "execution_count": null,
      "outputs": [
        {
          "output_type": "execute_result",
          "data": {
            "text/plain": [
              "<bound method NDFrame.describe of        sales  month  day  year\n",
              "0    134.710     10   31  2020\n",
              "1    137.740      7   31  2020\n",
              "2    134.620      4   30  2020\n",
              "3    141.670      1   31  2020\n",
              "4    127.990     10   31  2019\n",
              "..       ...    ...  ...   ...\n",
              "142    1.656      4   30  1985\n",
              "143    2.074      1   31  1985\n",
              "144    1.584     10   31  1984\n",
              "145    1.508      7   31  1984\n",
              "146    1.235      4   30  1984\n",
              "\n",
              "[147 rows x 4 columns]>"
            ]
          },
          "metadata": {
            "tags": []
          },
          "execution_count": 46
        }
      ]
    },
    {
      "cell_type": "markdown",
      "metadata": {
        "id": "apbOK9R9pqb9"
      },
      "source": [
        "### 1.2 Check NAs (1 pt.)\n",
        "[back to contents](#Contents)"
      ]
    },
    {
      "cell_type": "markdown",
      "metadata": {
        "id": "9-VgU1zPpqb9"
      },
      "source": [
        "Check whether ``` df ``` contains missing values(NAs):\n",
        "\n",
        "apply ``` isna().value_counts() ``` to ``` df ```"
      ]
    },
    {
      "cell_type": "code",
      "metadata": {
        "colab": {
          "base_uri": "https://localhost:8080/"
        },
        "id": "6umF7UFYpqb-",
        "outputId": "a2762966-ace6-4b3b-bb82-37f7147c538a"
      },
      "source": [
        "# code here (0.5 pt.)\n",
        "df.isna().value_counts() "
      ],
      "execution_count": null,
      "outputs": [
        {
          "output_type": "execute_result",
          "data": {
            "text/plain": [
              "sales  month  day    year \n",
              "False  False  False  False    147\n",
              "dtype: int64"
            ]
          },
          "metadata": {
            "tags": []
          },
          "execution_count": 5
        }
      ]
    },
    {
      "cell_type": "markdown",
      "metadata": {
        "id": "e1Qesf4rpqb-"
      },
      "source": [
        "How many missing values are there in ``` df ```?"
      ]
    },
    {
      "cell_type": "code",
      "metadata": {
        "colab": {
          "base_uri": "https://localhost:8080/"
        },
        "id": "PmQAV1WPpqb-",
        "outputId": "4eeb01ed-920a-47c2-d19d-4cc3dc153a88"
      },
      "source": [
        "# answer (0.5 pt.)\n",
        "0"
      ],
      "execution_count": null,
      "outputs": [
        {
          "output_type": "execute_result",
          "data": {
            "text/plain": [
              "0"
            ]
          },
          "metadata": {
            "tags": []
          },
          "execution_count": 6
        }
      ]
    },
    {
      "cell_type": "markdown",
      "metadata": {
        "id": "s7GO0Xehpqb_"
      },
      "source": [
        "### 1.3 Dates transformation (2 pt.)\n",
        "[back to contents](#Contents)"
      ]
    },
    {
      "cell_type": "markdown",
      "metadata": {
        "id": "r-NmhB-Tpqb_"
      },
      "source": [
        "How are dates represented in the original dataset? "
      ]
    },
    {
      "cell_type": "code",
      "metadata": {
        "colab": {
          "base_uri": "https://localhost:8080/"
        },
        "id": "_FzomqlkpqcA",
        "outputId": "e0bd7bec-e42b-49a9-daed-74a97c85613c"
      },
      "source": [
        "# answer (0.5 pt.)\n",
        "print(df.dtypes)"
      ],
      "execution_count": null,
      "outputs": [
        {
          "output_type": "stream",
          "text": [
            "sales    float64\n",
            "month      int64\n",
            "day        int64\n",
            "year       int64\n",
            "dtype: object\n"
          ],
          "name": "stdout"
        }
      ]
    },
    {
      "cell_type": "markdown",
      "metadata": {
        "id": "c_PLPG88pqcB"
      },
      "source": [
        "Transform dates to datetime format:\n",
        "\n",
        "``` df['date']=df['...']*10000+df['...']*100+df['...']*1 ```\n",
        "\n",
        "``` df['date']=pd.to_datetime(df['date'], format='%Y%m%d') ```\n",
        "\n",
        "change each ``` df['...'] ``` to one of ``` df['month'] ```, ``` df['year'] ```, ``` df['day'] ```according to ``` format='%Y%m%d'```"
      ]
    },
    {
      "cell_type": "code",
      "metadata": {
        "colab": {
          "base_uri": "https://localhost:8080/"
        },
        "id": "2mZrjYn4pqcB",
        "outputId": "640c2f50-10cd-408d-99b4-0036ad7f482b"
      },
      "source": [
        "# code here (0.5 pt.)\n",
        "df['date']=df['year']*10000+df['month']*100+df['day']*1\n",
        "df['date']=pd.to_datetime(df['date'], format='%Y%m%d')\n",
        "print(df)"
      ],
      "execution_count": null,
      "outputs": [
        {
          "output_type": "stream",
          "text": [
            "       sales  month  day  year       date\n",
            "0    134.710     10   31  2020 2020-10-31\n",
            "1    137.740      7   31  2020 2020-07-31\n",
            "2    134.620      4   30  2020 2020-04-30\n",
            "3    141.670      1   31  2020 2020-01-31\n",
            "4    127.990     10   31  2019 2019-10-31\n",
            "..       ...    ...  ...   ...        ...\n",
            "142    1.656      4   30  1985 1985-04-30\n",
            "143    2.074      1   31  1985 1985-01-31\n",
            "144    1.584     10   31  1984 1984-10-31\n",
            "145    1.508      7   31  1984 1984-07-31\n",
            "146    1.235      4   30  1984 1984-04-30\n",
            "\n",
            "[147 rows x 5 columns]\n"
          ],
          "name": "stdout"
        }
      ]
    },
    {
      "cell_type": "markdown",
      "metadata": {
        "id": "81sG_nSNpqcB"
      },
      "source": [
        "Change index to dates:\n",
        "\n",
        "``` df.index=.... ```"
      ]
    },
    {
      "cell_type": "code",
      "metadata": {
        "colab": {
          "base_uri": "https://localhost:8080/"
        },
        "id": "3cOpG7HkpqcC",
        "outputId": "9b2b48cd-7365-4662-878e-0a8685ea57c9"
      },
      "source": [
        "# code here (0.25 pt.)\n",
        "df= df.set_index(df['date'])\n",
        "print(df)"
      ],
      "execution_count": null,
      "outputs": [
        {
          "output_type": "stream",
          "text": [
            "              sales  month  day  year       date\n",
            "date                                            \n",
            "2020-10-31  134.710     10   31  2020 2020-10-31\n",
            "2020-07-31  137.740      7   31  2020 2020-07-31\n",
            "2020-04-30  134.620      4   30  2020 2020-04-30\n",
            "2020-01-31  141.670      1   31  2020 2020-01-31\n",
            "2019-10-31  127.990     10   31  2019 2019-10-31\n",
            "...             ...    ...  ...   ...        ...\n",
            "1985-04-30    1.656      4   30  1985 1985-04-30\n",
            "1985-01-31    2.074      1   31  1985 1985-01-31\n",
            "1984-10-31    1.584     10   31  1984 1984-10-31\n",
            "1984-07-31    1.508      7   31  1984 1984-07-31\n",
            "1984-04-30    1.235      4   30  1984 1984-04-30\n",
            "\n",
            "[147 rows x 5 columns]\n"
          ],
          "name": "stdout"
        }
      ]
    },
    {
      "cell_type": "markdown",
      "metadata": {
        "id": "blKsky4TpqcC"
      },
      "source": [
        "What is the size of the dataset?\n",
        "\n",
        "use ```.shape```"
      ]
    },
    {
      "cell_type": "code",
      "metadata": {
        "colab": {
          "base_uri": "https://localhost:8080/"
        },
        "id": "iXSZHOXxpqcD",
        "outputId": "ebc302fe-d4f6-45c8-9550-11c60d96ade3"
      },
      "source": [
        "# code here (0.25 pt.)\n",
        "print(df.shape)"
      ],
      "execution_count": null,
      "outputs": [
        {
          "output_type": "stream",
          "text": [
            "(147, 5)\n"
          ],
          "name": "stdout"
        }
      ]
    },
    {
      "cell_type": "markdown",
      "metadata": {
        "id": "1N-TNV5bpqcE"
      },
      "source": [
        "Drop columns ['day', 'year','month','date']:\n",
        "\n",
        "```df=df.drop(..., axis=1)```"
      ]
    },
    {
      "cell_type": "code",
      "metadata": {
        "colab": {
          "base_uri": "https://localhost:8080/"
        },
        "id": "60m1TSOMpqcE",
        "outputId": "6bbaa6df-d23d-4a4b-ef48-298369c45706"
      },
      "source": [
        "# code here (0.25 pt.)\n",
        "df=df.drop(['day', 'year','month','date'], axis=1)\n",
        "print(df)"
      ],
      "execution_count": null,
      "outputs": [
        {
          "output_type": "stream",
          "text": [
            "              sales\n",
            "date               \n",
            "2020-10-31  134.710\n",
            "2020-07-31  137.740\n",
            "2020-04-30  134.620\n",
            "2020-01-31  141.670\n",
            "2019-10-31  127.990\n",
            "...             ...\n",
            "1985-04-30    1.656\n",
            "1985-01-31    2.074\n",
            "1984-10-31    1.584\n",
            "1984-07-31    1.508\n",
            "1984-04-30    1.235\n",
            "\n",
            "[147 rows x 1 columns]\n"
          ],
          "name": "stdout"
        }
      ]
    },
    {
      "cell_type": "markdown",
      "metadata": {
        "id": "h9vS1KOnpqcE"
      },
      "source": [
        "What is the size of the dataset now?"
      ]
    },
    {
      "cell_type": "code",
      "metadata": {
        "colab": {
          "base_uri": "https://localhost:8080/"
        },
        "id": "zghmFcOPpqcF",
        "outputId": "4098d354-8f43-4ffa-c272-b0483c886ed2"
      },
      "source": [
        "# code here (0.25 pt.)\n",
        "print(df.shape)"
      ],
      "execution_count": null,
      "outputs": [
        {
          "output_type": "stream",
          "text": [
            "(147, 1)\n"
          ],
          "name": "stdout"
        }
      ]
    },
    {
      "cell_type": "markdown",
      "metadata": {
        "id": "vCQeyr2xpqcF"
      },
      "source": [
        "### 1.4 Plot data (0.75 pt.)\n",
        "[back to contents](#Contents)"
      ]
    },
    {
      "cell_type": "markdown",
      "metadata": {
        "id": "8msY_-vTpqcF"
      },
      "source": [
        "transform data frame column to series:\n",
        "\n",
        "```y=df['date']```"
      ]
    },
    {
      "cell_type": "code",
      "metadata": {
        "colab": {
          "base_uri": "https://localhost:8080/"
        },
        "id": "e1wtwpSRpqcG",
        "outputId": "86372627-2501-4aec-f1dc-64c03f7f5bde"
      },
      "source": [
        "# code here (0.25 pt.)\n",
        "y=df['sales']\n",
        "print(y)"
      ],
      "execution_count": null,
      "outputs": [
        {
          "output_type": "stream",
          "text": [
            "date\n",
            "2020-10-31    134.710\n",
            "2020-07-31    137.740\n",
            "2020-04-30    134.620\n",
            "2020-01-31    141.670\n",
            "2019-10-31    127.990\n",
            "               ...   \n",
            "1985-04-30      1.656\n",
            "1985-01-31      2.074\n",
            "1984-10-31      1.584\n",
            "1984-07-31      1.508\n",
            "1984-04-30      1.235\n",
            "Name: sales, Length: 147, dtype: float64\n"
          ],
          "name": "stdout"
        }
      ]
    },
    {
      "cell_type": "markdown",
      "metadata": {
        "id": "6eYWjKL6pqcG"
      },
      "source": [
        "```plot_series``` gets a series as an argument, whose dates sorted in ascending order.\n",
        "Transform your time series by changing descending order to ascending order:\n",
        "\n",
        "apply ```np.flip``` to ```y``` and name the result ```y```"
      ]
    },
    {
      "cell_type": "code",
      "metadata": {
        "colab": {
          "base_uri": "https://localhost:8080/"
        },
        "id": "1goBVjhgpqcH",
        "outputId": "609b112c-d1a7-4bd7-8293-2dcb9643c29d"
      },
      "source": [
        "# code here (0.25 pt.)\n",
        "y=np.flip(y)\n",
        "print(y)"
      ],
      "execution_count": null,
      "outputs": [
        {
          "output_type": "stream",
          "text": [
            "date\n",
            "1984-04-30      1.235\n",
            "1984-07-31      1.508\n",
            "1984-10-31      1.584\n",
            "1985-01-31      2.074\n",
            "1985-04-30      1.656\n",
            "               ...   \n",
            "2019-10-31    127.990\n",
            "2020-01-31    141.670\n",
            "2020-04-30    134.620\n",
            "2020-07-31    137.740\n",
            "2020-10-31    134.710\n",
            "Name: sales, Length: 147, dtype: float64\n"
          ],
          "name": "stdout"
        }
      ]
    },
    {
      "cell_type": "markdown",
      "metadata": {
        "id": "U7euBVnOpqcH"
      },
      "source": [
        "Plot the series using ```plot_series()```"
      ]
    },
    {
      "cell_type": "code",
      "metadata": {
        "colab": {
          "base_uri": "https://localhost:8080/",
          "height": 299
        },
        "id": "TPl9VWHkpqcH",
        "outputId": "20565442-c5fd-4230-83f1-bfa89cffeebe"
      },
      "source": [
        "# code here (0.25 pt.)\n",
        "plot_series(y)"
      ],
      "execution_count": null,
      "outputs": [
        {
          "output_type": "execute_result",
          "data": {
            "text/plain": [
              "(<Figure size 1152x288 with 1 Axes>,\n",
              " <matplotlib.axes._subplots.AxesSubplot at 0x7fb8ec4c6080>)"
            ]
          },
          "metadata": {
            "tags": []
          },
          "execution_count": 15
        },
        {
          "output_type": "display_data",
          "data": {
            "image/png": "[encoded data removed]",
            "text/plain": [
              "<Figure size 1152x288 with 1 Axes>"
            ]
          },
          "metadata": {
            "tags": [],
            "needs_background": "light"
          }
        }
      ]
    },
    {
      "cell_type": "markdown",
      "metadata": {
        "id": "QgDWOUZbpqcI"
      },
      "source": [
        "### 1.5 Split data (0.75 pt.)\n",
        "[back to contents](#Contents)"
      ]
    },
    {
      "cell_type": "markdown",
      "metadata": {
        "id": "Vd6fwrmMpqcI"
      },
      "source": [
        "Split the data into train and test samples:\n",
        "\n",
        "``` temporal_train_test_split(...) ```\n",
        "\n",
        "choose ``` test_size=0.2 ```"
      ]
    },
    {
      "cell_type": "code",
      "metadata": {
        "id": "2L6YCTARpqcI"
      },
      "source": [
        "# code here (0.5 pt.)\n",
        "y_train, y_test = temporal_train_test_split(y, test_size=0.2)"
      ],
      "execution_count": null,
      "outputs": []
    },
    {
      "cell_type": "markdown",
      "metadata": {
        "id": "KcyrhsA7pqcI"
      },
      "source": [
        "plot train and test samples using ``` plot_series ```"
      ]
    },
    {
      "cell_type": "code",
      "metadata": {
        "colab": {
          "base_uri": "https://localhost:8080/",
          "height": 299
        },
        "id": "a70Mws0FpqcJ",
        "outputId": "3d74bad4-ef7f-4eba-f9e3-50ead7d88373"
      },
      "source": [
        "# code here (0.25 pt.)\n",
        "plot_series(y_train, y_test, labels=['Train', 'Test'])"
      ],
      "execution_count": null,
      "outputs": [
        {
          "output_type": "execute_result",
          "data": {
            "text/plain": [
              "(<Figure size 1152x288 with 1 Axes>,\n",
              " <matplotlib.axes._subplots.AxesSubplot at 0x7fb8ec3a4cf8>)"
            ]
          },
          "metadata": {
            "tags": []
          },
          "execution_count": 17
        },
        {
          "output_type": "display_data",
          "data": {
            "image/png": "[encoded data removed]",
            "text/plain": [
              "<Figure size 1152x288 with 1 Axes>"
            ]
          },
          "metadata": {
            "tags": [],
            "needs_background": "light"
          }
        }
      ]
    },
    {
      "cell_type": "markdown",
      "metadata": {
        "id": "_-UYanjgpqcJ"
      },
      "source": [
        "## 2. ETS (7 pt.)"
      ]
    },
    {
      "cell_type": "markdown",
      "metadata": {
        "id": "99IMLJLbpqcJ"
      },
      "source": [
        "### 2.1 Estimate ETS (MAA) and (AAM) (1 pt.)\n",
        "[back to contents](#Contents)"
      ]
    },
    {
      "cell_type": "markdown",
      "metadata": {
        "id": "tOwtg5ZtpqcJ"
      },
      "source": [
        "Start with ETS (MAA). Estimate the model and name it ```model_MAA```:\n",
        "\n",
        "```ETSModel(..., error='...', trend='...', seasonal='...', seasonal_periods=...)```\n",
        "\n",
        "```fit_MAA=model_MAA.fit()```\n"
      ]
    },
    {
      "cell_type": "code",
      "metadata": {
        "colab": {
          "base_uri": "https://localhost:8080/"
        },
        "id": "MYscL1Dki9g3",
        "outputId": "3c95d868-f995-44d4-b17e-4c195ce1e2ad"
      },
      "source": [
        "model_MAA = ETSModel(y_train, error='mul', trend='add', seasonal='add', seasonal_periods=4)\n",
        "fit_MAA = model_MAA.fit()"
      ],
      "execution_count": null,
      "outputs": [
        {
          "output_type": "stream",
          "text": [
            "/usr/local/lib/python3.6/dist-packages/statsmodels/tsa/base/tsa_model.py:527: ValueWarning: No frequency information was provided, so inferred frequency Q-OCT will be used.\n",
            "  % freq, ValueWarning)\n"
          ],
          "name": "stderr"
        }
      ]
    },
    {
      "cell_type": "markdown",
      "metadata": {
        "id": "5XQBfH9CpqcK"
      },
      "source": [
        "Estimate ETS (AAM) with the same characteristics:\n",
        "    \n",
        "```ETSModel(..., error='...', trend='...', seasonal='...', seasonal_periods=...)```\n",
        "\n",
        "```fit_AAM=model_AAM.fit()```\n"
      ]
    },
    {
      "cell_type": "code",
      "metadata": {
        "id": "OeqLk81GpqcK",
        "colab": {
          "base_uri": "https://localhost:8080/"
        },
        "outputId": "38c30828-98df-459e-f3e6-1fe3296ab332"
      },
      "source": [
        "# code here (0.5 pt.)\n",
        "model_AAM=ETSModel(y_train, error='add', trend='add', seasonal='mul', seasonal_periods=4)\n",
        "fit_AAM=model_AAM.fit()"
      ],
      "execution_count": null,
      "outputs": [
        {
          "output_type": "stream",
          "text": [
            "/usr/local/lib/python3.6/dist-packages/statsmodels/tsa/base/tsa_model.py:527: ValueWarning: No frequency information was provided, so inferred frequency Q-OCT will be used.\n",
            "  % freq, ValueWarning)\n"
          ],
          "name": "stderr"
        }
      ]
    },
    {
      "cell_type": "markdown",
      "metadata": {
        "id": "m30k-ByqpqcK"
      },
      "source": [
        "### 2.2 Point forecasts (1 pt.)\n",
        "[back to contents](#Contents)"
      ]
    },
    {
      "cell_type": "markdown",
      "metadata": {
        "id": "h2FqHnjKpqcK"
      },
      "source": [
        "Obtain point forecasts for ETS(MAA) with forecasting horizon=30 quarters:\n",
        "\n",
        "```fit_MAA.forecast(steps=...)```"
      ]
    },
    {
      "cell_type": "code",
      "metadata": {
        "id": "HKY48R12pqcL"
      },
      "source": [
        "# code here (0.25 pt.)\n",
        "MAA_forecast=fit_MAA.forecast(steps=30)"
      ],
      "execution_count": null,
      "outputs": []
    },
    {
      "cell_type": "markdown",
      "metadata": {
        "id": "jTstekTRpqcL"
      },
      "source": [
        "Obtain point forecasts for ETS(AAM) with forecasting horizon=30 quarters:\n",
        "\n",
        "```fit_AAM.forecast(steps=...)```"
      ]
    },
    {
      "cell_type": "code",
      "metadata": {
        "id": "3ynHoaO7pqcL"
      },
      "source": [
        "# code here (0.25 pt.)\n",
        "AAM_forecast=fit_AAM.forecast(steps=30)"
      ],
      "execution_count": null,
      "outputs": []
    },
    {
      "cell_type": "markdown",
      "metadata": {
        "id": "lur0YL16pqcM"
      },
      "source": [
        "Plot both forecasts (AAM) and (MAA), test and train data\n",
        "\n",
        "```plot_series()```"
      ]
    },
    {
      "cell_type": "code",
      "metadata": {
        "id": "9pQAlsCwpqcM",
        "colab": {
          "base_uri": "https://localhost:8080/",
          "height": 299
        },
        "outputId": "536f555e-7b86-4081-b444-9fd54ca000c2"
      },
      "source": [
        "# code here (0.5 pt.)\n",
        "plot_series(y_train, y_test, MAA_forecast, AAM_forecast, labels=['Train', 'Test', 'MAA', 'AAM'])\n"
      ],
      "execution_count": null,
      "outputs": [
        {
          "output_type": "execute_result",
          "data": {
            "text/plain": [
              "(<Figure size 1152x288 with 1 Axes>,\n",
              " <matplotlib.axes._subplots.AxesSubplot at 0x7fb8e3d05780>)"
            ]
          },
          "metadata": {
            "tags": []
          },
          "execution_count": 53
        },
        {
          "output_type": "display_data",
          "data": {
            "image/png": "[encoded data removed]",
            "text/plain": [
              "<Figure size 1152x288 with 1 Axes>"
            ]
          },
          "metadata": {
            "tags": [],
            "needs_background": "light"
          }
        }
      ]
    },
    {
      "cell_type": "markdown",
      "metadata": {
        "id": "_0mf6r7SpqcM"
      },
      "source": [
        "### 2.3 Interval forecasts ETS(MAA) (1 pt.)\n",
        "[back to contents](#Contents)"
      ]
    },
    {
      "cell_type": "markdown",
      "metadata": {
        "id": "w9HrHOrhpqcN"
      },
      "source": [
        "Get 95% confidence intervals:\n",
        "\n",
        "```pred_MAA=fit_MAA.get_prediction(start='2013-07-31', end='2020-10-31') ```\n",
        "\n",
        "``` pred_MAA=pred_MAA.summary_frame(alpha=0.05) ```\n",
        "\n",
        "Expract upper and lower bounds from ```pred_MAA``` and name them ```upper_int``` and ```lower_int```\n"
      ]
    },
    {
      "cell_type": "code",
      "metadata": {
        "id": "bI5cz1oOpqcN",
        "colab": {
          "base_uri": "https://localhost:8080/",
          "height": 979
        },
        "outputId": "3e544a9a-c94a-40d6-be48-fd3ee4f59c36"
      },
      "source": [
        "# code here (0.5 pt.)\n",
        "pred_MAA=fit_MAA.get_prediction(start='2013-07-31', end='2020-10-31')\n",
        "pred_MAA=pred_MAA.summary_frame(alpha=0.05)\n",
        "\n",
        "\n",
        "upper_int = pred_MAA[\"pi_upper\"]\n",
        "lower_int = pred_MAA[\"pi_lower\"]\n",
        "pred_MAA"
      ],
      "execution_count": null,
      "outputs": [
        {
          "output_type": "execute_result",
          "data": {
            "text/html": [
              "<div>\n",
              "<style scoped>\n",
              "    .dataframe tbody tr th:only-of-type {\n",
              "        vertical-align: middle;\n",
              "    }\n",
              "\n",
              "    .dataframe tbody tr th {\n",
              "        vertical-align: top;\n",
              "    }\n",
              "\n",
              "    .dataframe thead th {\n",
              "        text-align: right;\n",
              "    }\n",
              "</style>\n",
              "<table border=\"1\" class=\"dataframe\">\n",
              "  <thead>\n",
              "    <tr style=\"text-align: right;\">\n",
              "      <th></th>\n",
              "      <th>mean</th>\n",
              "      <th>mean_numerical</th>\n",
              "      <th>pi_lower</th>\n",
              "      <th>pi_upper</th>\n",
              "    </tr>\n",
              "  </thead>\n",
              "  <tbody>\n",
              "    <tr>\n",
              "      <th>2013-07-31</th>\n",
              "      <td>117.848870</td>\n",
              "      <td>117.754340</td>\n",
              "      <td>107.654282</td>\n",
              "      <td>127.563150</td>\n",
              "    </tr>\n",
              "    <tr>\n",
              "      <th>2013-10-31</th>\n",
              "      <td>117.364671</td>\n",
              "      <td>117.262387</td>\n",
              "      <td>106.904724</td>\n",
              "      <td>128.088188</td>\n",
              "    </tr>\n",
              "    <tr>\n",
              "      <th>2014-01-31</th>\n",
              "      <td>130.725437</td>\n",
              "      <td>130.676262</td>\n",
              "      <td>117.003621</td>\n",
              "      <td>144.216157</td>\n",
              "    </tr>\n",
              "    <tr>\n",
              "      <th>2014-04-30</th>\n",
              "      <td>117.901781</td>\n",
              "      <td>117.707414</td>\n",
              "      <td>103.626601</td>\n",
              "      <td>132.366196</td>\n",
              "    </tr>\n",
              "    <tr>\n",
              "      <th>2014-07-31</th>\n",
              "      <td>121.230478</td>\n",
              "      <td>121.045032</td>\n",
              "      <td>100.553485</td>\n",
              "      <td>141.411863</td>\n",
              "    </tr>\n",
              "    <tr>\n",
              "      <th>2014-10-31</th>\n",
              "      <td>120.746279</td>\n",
              "      <td>120.728881</td>\n",
              "      <td>99.493204</td>\n",
              "      <td>145.883762</td>\n",
              "    </tr>\n",
              "    <tr>\n",
              "      <th>2015-01-31</th>\n",
              "      <td>134.107045</td>\n",
              "      <td>134.007864</td>\n",
              "      <td>108.325777</td>\n",
              "      <td>163.035388</td>\n",
              "    </tr>\n",
              "    <tr>\n",
              "      <th>2015-04-30</th>\n",
              "      <td>121.283388</td>\n",
              "      <td>121.121548</td>\n",
              "      <td>93.074700</td>\n",
              "      <td>152.398009</td>\n",
              "    </tr>\n",
              "    <tr>\n",
              "      <th>2015-07-31</th>\n",
              "      <td>124.612085</td>\n",
              "      <td>124.440403</td>\n",
              "      <td>91.979823</td>\n",
              "      <td>162.893457</td>\n",
              "    </tr>\n",
              "    <tr>\n",
              "      <th>2015-10-31</th>\n",
              "      <td>124.127886</td>\n",
              "      <td>124.401185</td>\n",
              "      <td>88.769440</td>\n",
              "      <td>167.991518</td>\n",
              "    </tr>\n",
              "    <tr>\n",
              "      <th>2016-01-31</th>\n",
              "      <td>137.488652</td>\n",
              "      <td>137.183003</td>\n",
              "      <td>97.308330</td>\n",
              "      <td>186.226997</td>\n",
              "    </tr>\n",
              "    <tr>\n",
              "      <th>2016-04-30</th>\n",
              "      <td>124.664996</td>\n",
              "      <td>124.199525</td>\n",
              "      <td>81.166054</td>\n",
              "      <td>174.476593</td>\n",
              "    </tr>\n",
              "    <tr>\n",
              "      <th>2016-07-31</th>\n",
              "      <td>127.993693</td>\n",
              "      <td>127.875243</td>\n",
              "      <td>78.902170</td>\n",
              "      <td>187.291590</td>\n",
              "    </tr>\n",
              "    <tr>\n",
              "      <th>2016-10-31</th>\n",
              "      <td>127.509494</td>\n",
              "      <td>127.308511</td>\n",
              "      <td>75.875271</td>\n",
              "      <td>192.741415</td>\n",
              "    </tr>\n",
              "    <tr>\n",
              "      <th>2017-01-31</th>\n",
              "      <td>140.870260</td>\n",
              "      <td>140.577556</td>\n",
              "      <td>83.417787</td>\n",
              "      <td>209.974129</td>\n",
              "    </tr>\n",
              "    <tr>\n",
              "      <th>2017-04-30</th>\n",
              "      <td>128.046603</td>\n",
              "      <td>127.392526</td>\n",
              "      <td>67.712698</td>\n",
              "      <td>203.340449</td>\n",
              "    </tr>\n",
              "    <tr>\n",
              "      <th>2017-07-31</th>\n",
              "      <td>131.375301</td>\n",
              "      <td>131.201381</td>\n",
              "      <td>65.698264</td>\n",
              "      <td>215.263721</td>\n",
              "    </tr>\n",
              "    <tr>\n",
              "      <th>2017-10-31</th>\n",
              "      <td>130.891102</td>\n",
              "      <td>130.705637</td>\n",
              "      <td>60.454957</td>\n",
              "      <td>217.679406</td>\n",
              "    </tr>\n",
              "    <tr>\n",
              "      <th>2018-01-31</th>\n",
              "      <td>144.251867</td>\n",
              "      <td>143.790323</td>\n",
              "      <td>69.152879</td>\n",
              "      <td>235.104742</td>\n",
              "    </tr>\n",
              "    <tr>\n",
              "      <th>2018-04-30</th>\n",
              "      <td>131.428211</td>\n",
              "      <td>130.609177</td>\n",
              "      <td>52.900216</td>\n",
              "      <td>230.835574</td>\n",
              "    </tr>\n",
              "    <tr>\n",
              "      <th>2018-07-31</th>\n",
              "      <td>134.756908</td>\n",
              "      <td>134.269837</td>\n",
              "      <td>50.448234</td>\n",
              "      <td>249.255994</td>\n",
              "    </tr>\n",
              "    <tr>\n",
              "      <th>2018-10-31</th>\n",
              "      <td>134.272709</td>\n",
              "      <td>133.702651</td>\n",
              "      <td>42.120065</td>\n",
              "      <td>256.433899</td>\n",
              "    </tr>\n",
              "    <tr>\n",
              "      <th>2019-01-31</th>\n",
              "      <td>147.633475</td>\n",
              "      <td>146.892811</td>\n",
              "      <td>53.050252</td>\n",
              "      <td>268.580225</td>\n",
              "    </tr>\n",
              "    <tr>\n",
              "      <th>2019-04-30</th>\n",
              "      <td>134.809819</td>\n",
              "      <td>133.807891</td>\n",
              "      <td>37.397562</td>\n",
              "      <td>266.587499</td>\n",
              "    </tr>\n",
              "    <tr>\n",
              "      <th>2019-07-31</th>\n",
              "      <td>138.138516</td>\n",
              "      <td>137.507006</td>\n",
              "      <td>35.326453</td>\n",
              "      <td>279.046551</td>\n",
              "    </tr>\n",
              "    <tr>\n",
              "      <th>2019-10-31</th>\n",
              "      <td>137.654317</td>\n",
              "      <td>137.143124</td>\n",
              "      <td>29.368271</td>\n",
              "      <td>291.612680</td>\n",
              "    </tr>\n",
              "    <tr>\n",
              "      <th>2020-01-31</th>\n",
              "      <td>151.015082</td>\n",
              "      <td>149.700208</td>\n",
              "      <td>35.656581</td>\n",
              "      <td>307.335771</td>\n",
              "    </tr>\n",
              "    <tr>\n",
              "      <th>2020-04-30</th>\n",
              "      <td>138.191426</td>\n",
              "      <td>136.702021</td>\n",
              "      <td>19.189793</td>\n",
              "      <td>301.914885</td>\n",
              "    </tr>\n",
              "    <tr>\n",
              "      <th>2020-07-31</th>\n",
              "      <td>141.520123</td>\n",
              "      <td>140.593364</td>\n",
              "      <td>17.470692</td>\n",
              "      <td>314.456052</td>\n",
              "    </tr>\n",
              "    <tr>\n",
              "      <th>2020-10-31</th>\n",
              "      <td>141.035924</td>\n",
              "      <td>139.626434</td>\n",
              "      <td>11.137305</td>\n",
              "      <td>334.252525</td>\n",
              "    </tr>\n",
              "  </tbody>\n",
              "</table>\n",
              "</div>"
            ],
            "text/plain": [
              "                  mean  mean_numerical    pi_lower    pi_upper\n",
              "2013-07-31  117.848870      117.754340  107.654282  127.563150\n",
              "2013-10-31  117.364671      117.262387  106.904724  128.088188\n",
              "2014-01-31  130.725437      130.676262  117.003621  144.216157\n",
              "2014-04-30  117.901781      117.707414  103.626601  132.366196\n",
              "2014-07-31  121.230478      121.045032  100.553485  141.411863\n",
              "2014-10-31  120.746279      120.728881   99.493204  145.883762\n",
              "2015-01-31  134.107045      134.007864  108.325777  163.035388\n",
              "2015-04-30  121.283388      121.121548   93.074700  152.398009\n",
              "2015-07-31  124.612085      124.440403   91.979823  162.893457\n",
              "2015-10-31  124.127886      124.401185   88.769440  167.991518\n",
              "2016-01-31  137.488652      137.183003   97.308330  186.226997\n",
              "2016-04-30  124.664996      124.199525   81.166054  174.476593\n",
              "2016-07-31  127.993693      127.875243   78.902170  187.291590\n",
              "2016-10-31  127.509494      127.308511   75.875271  192.741415\n",
              "2017-01-31  140.870260      140.577556   83.417787  209.974129\n",
              "2017-04-30  128.046603      127.392526   67.712698  203.340449\n",
              "2017-07-31  131.375301      131.201381   65.698264  215.263721\n",
              "2017-10-31  130.891102      130.705637   60.454957  217.679406\n",
              "2018-01-31  144.251867      143.790323   69.152879  235.104742\n",
              "2018-04-30  131.428211      130.609177   52.900216  230.835574\n",
              "2018-07-31  134.756908      134.269837   50.448234  249.255994\n",
              "2018-10-31  134.272709      133.702651   42.120065  256.433899\n",
              "2019-01-31  147.633475      146.892811   53.050252  268.580225\n",
              "2019-04-30  134.809819      133.807891   37.397562  266.587499\n",
              "2019-07-31  138.138516      137.507006   35.326453  279.046551\n",
              "2019-10-31  137.654317      137.143124   29.368271  291.612680\n",
              "2020-01-31  151.015082      149.700208   35.656581  307.335771\n",
              "2020-04-30  138.191426      136.702021   19.189793  301.914885\n",
              "2020-07-31  141.520123      140.593364   17.470692  314.456052\n",
              "2020-10-31  141.035924      139.626434   11.137305  334.252525"
            ]
          },
          "metadata": {
            "tags": []
          },
          "execution_count": 41
        }
      ]
    },
    {
      "cell_type": "markdown",
      "metadata": {
        "id": "L6DapvR4pqcN"
      },
      "source": [
        "Plot interval predictions:\n",
        "\n",
        "```plot_series()```"
      ]
    },
    {
      "cell_type": "code",
      "metadata": {
        "scrolled": true,
        "id": "EDghcPu2pqcO",
        "colab": {
          "base_uri": "https://localhost:8080/",
          "height": 303
        },
        "outputId": "20798260-568b-43e8-e1b9-950c4f1a9946"
      },
      "source": [
        "# code here (0.5 pt.)\n",
        "plot_series(y_train, y_test, upper_int, lower_int, labels=['Train', 'Test', 'upper_int', 'lower_int'])"
      ],
      "execution_count": null,
      "outputs": [
        {
          "output_type": "execute_result",
          "data": {
            "text/plain": [
              "(<Figure size 1152x288 with 1 Axes>,\n",
              " <matplotlib.axes._subplots.AxesSubplot at 0x7fb8e3da35f8>)"
            ]
          },
          "metadata": {
            "tags": []
          },
          "execution_count": 43
        },
        {
          "output_type": "display_data",
          "data": {
            "image/png": "[encoded data removed]",
            "text/plain": [
              "<Figure size 1152x288 with 1 Axes>"
            ]
          },
          "metadata": {
            "tags": [],
            "needs_background": "light"
          }
        }
      ]
    },
    {
      "cell_type": "markdown",
      "metadata": {
        "id": "E33EaS3cpqcO"
      },
      "source": [
        "### 2.4 Interval forecasts ETS(AAM) (1 pt.)\n",
        "[back to contents](#Contents)"
      ]
    },
    {
      "cell_type": "markdown",
      "metadata": {
        "id": "_x8_XRt1pqcP"
      },
      "source": [
        "Get 95% confidence intervals:\n",
        "\n",
        "``` pred_AAM=fit_AAM.get_prediction(start='2013-07-31', end='2020-10-31') ```\n",
        "\n",
        "``` pred_AAM=pred_AAM.summary_frame(alpha=0.05) ```\n",
        "\n",
        "Expract upper and lower bounds from ```pred_MAA``` and name them ```upper_int``` and ```lower_int```"
      ]
    },
    {
      "cell_type": "code",
      "metadata": {
        "id": "6WOlVyispqcP"
      },
      "source": [
        "# code here (0.5 pt.)\n",
        "pred_AAM=fit_AAM.get_prediction(start='2013-07-31', end='2020-10-31')\n",
        "pred_AAM=pred_AAM.summary_frame(alpha=0.05)\n",
        "\n",
        "upper_int = pred_AAM[\"pi_upper\"]\n",
        "lower_int = pred_AAM[\"pi_lower\"]"
      ],
      "execution_count": null,
      "outputs": []
    },
    {
      "cell_type": "markdown",
      "metadata": {
        "id": "jnEUpBqlpqcP"
      },
      "source": [
        "Plot interval predictions:\n",
        "\n",
        "```plot_series()```"
      ]
    },
    {
      "cell_type": "code",
      "metadata": {
        "scrolled": true,
        "id": "nPeq2-vSpqcQ",
        "colab": {
          "base_uri": "https://localhost:8080/",
          "height": 302
        },
        "outputId": "379c0ea5-5598-465a-8064-952e648ad25c"
      },
      "source": [
        "# code here (0.5 pt.)\n",
        "plot_series(y_train, y_test, upper_int, lower_int, labels=['Train', 'Test', 'upper_int', 'lower_int'])"
      ],
      "execution_count": null,
      "outputs": [
        {
          "output_type": "execute_result",
          "data": {
            "text/plain": [
              "(<Figure size 1152x288 with 1 Axes>,\n",
              " <matplotlib.axes._subplots.AxesSubplot at 0x7fb8e3d3b5c0>)"
            ]
          },
          "metadata": {
            "tags": []
          },
          "execution_count": 45
        },
        {
          "output_type": "display_data",
          "data": {
            "image/png": "[encoded data removed]",
            "text/plain": [
              "<Figure size 1152x288 with 1 Axes>"
            ]
          },
          "metadata": {
            "tags": [],
            "needs_background": "light"
          }
        }
      ]
    },
    {
      "cell_type": "markdown",
      "metadata": {
        "id": "A4Fkf_i7pqcQ"
      },
      "source": [
        "### 2.5 Forecast quality metrics (2 pt.)\n",
        "[back to contents](#Contents)"
      ]
    },
    {
      "cell_type": "markdown",
      "metadata": {
        "id": "YOAXFoo3pqcR"
      },
      "source": [
        "Calculate the following metrics for both ETS(MAA) and ETS(AAM) predictions:"
      ]
    },
    {
      "cell_type": "markdown",
      "metadata": {
        "id": "d07XpZJxpqcS"
      },
      "source": [
        "$MAE = \\frac{\\sum\\limits_{i=1}^n |y_i-\\hat{y}_i|}{n}$\n",
        "\n",
        "```python\n",
        "sklearn.metrics.mean_absolute_error\n",
        "```"
      ]
    },
    {
      "cell_type": "code",
      "metadata": {
        "id": "_g9PcRqLpqcS",
        "colab": {
          "base_uri": "https://localhost:8080/"
        },
        "outputId": "7f44efdb-6f6d-4fe6-8ac8-9674fb2b00e3"
      },
      "source": [
        "# code here (0.5 pt.) MAA\n",
        "mean_absolute_error(y_test, MAA_forecast)\n"
      ],
      "execution_count": null,
      "outputs": [
        {
          "output_type": "execute_result",
          "data": {
            "text/plain": [
              "6.394546605755498"
            ]
          },
          "metadata": {
            "tags": []
          },
          "execution_count": 58
        }
      ]
    },
    {
      "cell_type": "code",
      "metadata": {
        "id": "vAVydRYzpqcT",
        "colab": {
          "base_uri": "https://localhost:8080/"
        },
        "outputId": "17b69920-eeec-49a5-c0cb-1b1a7e38be60"
      },
      "source": [
        "# code here (0.5 pt.) AAM\n",
        "mean_absolute_error(y_test, AAM_forecast)"
      ],
      "execution_count": null,
      "outputs": [
        {
          "output_type": "execute_result",
          "data": {
            "text/plain": [
              "12.709161383337841"
            ]
          },
          "metadata": {
            "tags": []
          },
          "execution_count": 59
        }
      ]
    },
    {
      "cell_type": "markdown",
      "metadata": {
        "id": "hytkSLCVpqcT"
      },
      "source": [
        "$MSE = \\frac{\\sum\\limits_{i=1}^n (y_i-\\hat{y}_i)^2}{n}$\n",
        "\n",
        "```python\n",
        "sklearn.metrics.mean_squared_error\n",
        "```"
      ]
    },
    {
      "cell_type": "code",
      "metadata": {
        "id": "O8J7KdrEpqcT",
        "colab": {
          "base_uri": "https://localhost:8080/"
        },
        "outputId": "9814b684-9cd7-4711-b6b9-af776a14c8ae"
      },
      "source": [
        "# code here (0.5 pt.) MAA\n",
        "mean_squared_error(y_test, MAA_forecast)"
      ],
      "execution_count": null,
      "outputs": [
        {
          "output_type": "execute_result",
          "data": {
            "text/plain": [
              "50.57147037477893"
            ]
          },
          "metadata": {
            "tags": []
          },
          "execution_count": 60
        }
      ]
    },
    {
      "cell_type": "code",
      "metadata": {
        "id": "DHdm6RvkpqcT",
        "colab": {
          "base_uri": "https://localhost:8080/"
        },
        "outputId": "54d36837-851a-4b29-9d86-dcd0c9828388"
      },
      "source": [
        "# code here (0.5 pt.) AAM\n",
        "mean_squared_error(y_test, AAM_forecast)"
      ],
      "execution_count": null,
      "outputs": [
        {
          "output_type": "execute_result",
          "data": {
            "text/plain": [
              "195.9700976122845"
            ]
          },
          "metadata": {
            "tags": []
          },
          "execution_count": 61
        }
      ]
    },
    {
      "cell_type": "markdown",
      "metadata": {
        "id": "M7CCCED6pqcU"
      },
      "source": [
        "$MAPE = \\frac{100}{n}\\frac{\\sum\\limits_{i=1}^n |y_i-\\hat{y}_i|}{y_i}$ \n",
        "\n",
        "```python\n",
        "def mean_absolute_percentage_error(y_true, y_pred): \n",
        "    return np.mean(np.abs((y_true - y_pred) / y_true)) * 100\n",
        "```"
      ]
    },
    {
      "cell_type": "markdown",
      "metadata": {
        "id": "p-M6-rfCpqcU"
      },
      "source": [
        "Create a new function to calculate MAPE"
      ]
    },
    {
      "cell_type": "code",
      "metadata": {
        "id": "oahq_UaNpqcU"
      },
      "source": [
        "# code here (0.5 pt.)\n",
        "def mean_absolute_percentage_error(y_true, y_pred): \n",
        "    return np.mean(np.abs((y_true - y_pred) / y_true)) * 100\n"
      ],
      "execution_count": null,
      "outputs": []
    },
    {
      "cell_type": "markdown",
      "metadata": {
        "id": "hXnGPziOpqcU"
      },
      "source": [
        "Calculate MAPE:"
      ]
    },
    {
      "cell_type": "code",
      "metadata": {
        "id": "bPWyoArapqcU",
        "colab": {
          "base_uri": "https://localhost:8080/"
        },
        "outputId": "d32fac3c-c5f5-44d0-900a-f4003c2173a5"
      },
      "source": [
        "# code here (0.25 pt.) MAA\n",
        "mean_absolute_percentage_error(y_test, MAA_forecast)"
      ],
      "execution_count": null,
      "outputs": [
        {
          "output_type": "execute_result",
          "data": {
            "text/plain": [
              "5.091701024681435"
            ]
          },
          "metadata": {
            "tags": []
          },
          "execution_count": 63
        }
      ]
    },
    {
      "cell_type": "code",
      "metadata": {
        "id": "jhFJu3UQpqcV",
        "colab": {
          "base_uri": "https://localhost:8080/"
        },
        "outputId": "19b2011d-d1ec-41a6-b0d2-b41147346099"
      },
      "source": [
        "# code here (0.25 pt.) AAM\n",
        "mean_absolute_percentage_error(y_test, AAM_forecast)"
      ],
      "execution_count": null,
      "outputs": [
        {
          "output_type": "execute_result",
          "data": {
            "text/plain": [
              "9.993524328604307"
            ]
          },
          "metadata": {
            "tags": []
          },
          "execution_count": 64
        }
      ]
    },
    {
      "cell_type": "markdown",
      "metadata": {
        "id": "mKhzQ0mppqcV"
      },
      "source": [
        "### 2.6 What is the best model according to the metrics above? (1 pt.)"
      ]
    },
    {
      "cell_type": "code",
      "metadata": {
        "id": "OywYWhSapqcV",
        "colab": {
          "base_uri": "https://localhost:8080/"
        },
        "outputId": "17550ebf-ce18-4bfb-f72e-cd7511898a08"
      },
      "source": [
        "# code here (1 pt.)\n",
        "print('MAA is better since it has lower MAE, MSE and MAPE')"
      ],
      "execution_count": null,
      "outputs": [
        {
          "output_type": "stream",
          "text": [
            "MAA is better since it has lower MAE, MSE and MAPE\n"
          ],
          "name": "stdout"
        }
      ]
    }
  ]
}